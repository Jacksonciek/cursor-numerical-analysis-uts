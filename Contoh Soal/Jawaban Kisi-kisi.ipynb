{
 "cells": [
  {
   "cell_type": "markdown",
   "id": "9d0c71e0-6ce9-4f86-b644-f6108801846a",
   "metadata": {},
   "source": [
    "## Jawaban Nomor 1"
   ]
  },
  {
   "cell_type": "code",
   "execution_count": 2,
   "id": "7f49a21c-02ef-4b0c-872a-c8a9d67f35bc",
   "metadata": {},
   "outputs": [
    {
     "name": "stdout",
     "output_type": "stream",
     "text": [
      "Matrix is diagonally dominat\n"
     ]
    }
   ],
   "source": [
    "# check convergence condition - diagonally dominance (Bobot maks: 5%)\n",
    "\n",
    "# import seluruh libraries yang dibutuhkan\n",
    "import numpy as np\n",
    "\n",
    "# INPUT THE MATRIX\n",
    "a = [[4,-1,2],[-2,6,1],[1,1,5]]\n",
    "\n",
    "# Find diagonal coefficients\n",
    "diag = np.diag(np.abs(a))\n",
    "\n",
    "# Find row sum without diagonal\n",
    "off_diag = np.sum(np.abs(a), axis=1) - diag\n",
    "\n",
    "# check the condition\n",
    "if np.all(diag > off_diag):\n",
    "    print(\"Matrix is diagonally dominat\")\n",
    "else :\n",
    "    print(\"NOT diagonally dominant\")\n",
    "\n"
   ]
  },
  {
   "cell_type": "code",
   "execution_count": 4,
   "id": "f6c9f6f4-d057-4355-b122-9640faf0b428",
   "metadata": {},
   "outputs": [
    {
     "name": "stdout",
     "output_type": "stream",
     "text": [
      "Iteration results : \n",
      "k,     x1,     x2,     x3\n",
      "1, 1.2500, -1.0833, 1.3667\n",
      "2, 0.2958, -1.6292, 1.6667\n",
      "3, 0.0094, -1.7747, 1.7531\n",
      "4, -0.0702, -1.8156, 1.7772\n",
      "5, -0.0925, -1.8270, 1.7839\n",
      "6, -0.0987, -1.8302, 1.7858\n",
      "7, -0.1004, -1.8311, 1.7863\n",
      "8, -0.1009, -1.8314, 1.7865\n",
      "9, -0.1011, -1.8314, 1.7865\n",
      "10, -0.1011, -1.8315, 1.7865\n",
      "11, -0.1011, -1.8315, 1.7865\n",
      "12, -0.1011, -1.8315, 1.7865\n",
      "13, -0.1011, -1.8315, 1.7865\n",
      "Converged\n",
      "\n",
      "Solusi sistem persamaan linear : \n",
      "x1 = -0.1011\n",
      "x2 = -1.8315\n",
      "x3 = 1.7865\n"
     ]
    }
   ],
   "source": [
    "# Gauss-Seidel iterative method (Bobot maks: 15%)\n",
    "import numpy as np\n",
    "# inisialisasi data awal\n",
    "x1 = 0\n",
    "x2 = 0\n",
    "x3 = 0\n",
    "epsilon = 0.000001\n",
    "converged = False\n",
    "\n",
    "# metode Gauss-Seidel\n",
    "x_old = np.array([x1,x2,x3])\n",
    "\n",
    "print(\"Iteration results : \")\n",
    "print(\"k,     x1,     x2,     x3\")\n",
    "for k in range(1,50):\n",
    "    x1 = (5+(1*x2)-(2*x3))/4\n",
    "    x2 = (-9+(2*x1)-(1*x3))/6\n",
    "    x3 = (7-(1*x1)-(1*x2))/5\n",
    "    x = np.array([x1,x2,x3])\n",
    "    dx = np.sqrt(np.dot(x-x_old, x-x_old))\n",
    "    \n",
    "    print(\"%d, %.4f, %.4f, %.4f\"%(k,x1,x2,x3))\n",
    "    if dx < epsilon:\n",
    "        converged = True\n",
    "        print(\"Converged\")\n",
    "        break\n",
    "    \n",
    "    x_old = x\n",
    "    \n",
    "if not converged:\n",
    "    print (\"Not converge, increase the # of iterations\")\n",
    "    \n",
    "print(\"\\nSolusi sistem persamaan linear : \")\n",
    "for i in range(len(x)):\n",
    "    print(f\"x{i+1} = {x[i]:.4f}\")\n",
    "    \n",
    "#Berdasarkan Materi Pembelajaran Pertemuan 4 Numerical Analysis Universitas Multimedia Nusantara, meskipun sistem persamaan linear tidak diagonally dominant, hal tersebut tetap memungkinkan untuk mendapatkan solusinya berupa Converge\n",
    "\n"
   ]
  },
  {
   "cell_type": "markdown",
   "id": "e81ee565-a295-45ec-ac10-d18c152555f4",
   "metadata": {},
   "source": [
    "## Jawaban Nomor 2"
   ]
  },
  {
   "cell_type": "code",
   "execution_count": 7,
   "id": "7de28b36-ed61-4c0b-a6fa-eb2b7030903c",
   "metadata": {},
   "outputs": [
    {
     "name": "stdout",
     "output_type": "stream",
     "text": [
      "The Max Eigen Value :  6.248360955501626\n",
      "The Max Eigen Vector :  [0.90010493 0.86203778 1.        ]\n"
     ]
    }
   ],
   "source": [
    "# Finding max Eigenvalue and Eigenvector (Bobot maks: 10%)\n",
    "import numpy as np\n",
    "# define a normalize function\n",
    "def normalize(x):\n",
    "    fac = abs(x).max()\n",
    "    x_n = x / x.max()\n",
    "    return fac, x_n\n",
    "\n",
    "# inisialisasi data awal\n",
    "x = np.array([1, 0, 0])\n",
    "a = np.array([[1,2,3],\n",
    "              [2,3,1],\n",
    "              [2,4,1]])\n",
    "\n",
    "for i in range(60):\n",
    "    x = np.dot(a, x)\n",
    "    lambda_1, x = normalize(x)\n",
    "\n",
    "# eigenvalue dan eigenvector\n",
    "print(\"The Max Eigen Value : \", lambda_1)\n",
    "print(\"The Max Eigen Vector : \", x)\n"
   ]
  },
  {
   "cell_type": "code",
   "execution_count": 9,
   "id": "a7c400d1-aac1-43e0-ad57-39935129eb77",
   "metadata": {},
   "outputs": [
    {
     "name": "stdout",
     "output_type": "stream",
     "text": [
      "Eigenvalue :  [ 6.24836096+0.j         -0.62418048+0.64078747j -0.62418048-0.64078747j]\n",
      "Eigenvector :  [[ 0.56330342+0.j         -0.8448633 +0.j         -0.8448633 -0.j        ]\n",
      " [ 0.53948024+0.j          0.38536477+0.14451199j  0.38536477-0.14451199j]\n",
      " [ 0.62581972+0.j          0.20049365-0.2768006j   0.20049365+0.2768006j ]]\n",
      "\n",
      "\n",
      "Explanation : \n",
      "When eigenvalue =  (6.248360955501622+0j) , the eigenvector is  [ 0.56330342+0.j -0.8448633 +0.j -0.8448633 -0.j]\n",
      "When eigenvalue =  (-0.6241804777508138+0.6407874717282104j) , the eigenvector is  [0.53948024+0.j         0.38536477+0.14451199j 0.38536477-0.14451199j]\n",
      "When eigenvalue =  (-0.6241804777508138-0.6407874717282104j) , the eigenvector is  [0.62581972+0.j        0.20049365-0.2768006j 0.20049365+0.2768006j]\n"
     ]
    }
   ],
   "source": [
    "# Finding all eigenvalues and eigenvectors using built-in function eig (Bobot maks: 10%)\n",
    "# import seluruh libraries yang dibutuhkan\n",
    "import numpy as np\n",
    "from numpy.linalg import eig\n",
    "\n",
    "# tampilkan seluruh eigenvalues dan eigenvectors dengan fungsi 'eig'\n",
    "a = np.array([[1,2,3],\n",
    "              [2,3,1],\n",
    "              [2,4,1]])\n",
    "\n",
    "value, vector = eig(a)\n",
    "\n",
    "print(\"Eigenvalue : \", value)\n",
    "print(\"Eigenvector : \", vector)\n",
    "print(\"\\n\")\n",
    "\n",
    "print(\"Explanation : \")\n",
    "for i in range(len(value)):\n",
    "    print(\"When eigenvalue = \", value[i], \", the eigenvector is \", vector[i])\n"
   ]
  },
  {
   "cell_type": "code",
   "execution_count": null,
   "id": "00360693-e22d-485c-b593-25bc641ab7de",
   "metadata": {},
   "outputs": [],
   "source": []
  }
 ],
 "metadata": {
  "kernelspec": {
   "display_name": "Python 3 (ipykernel)",
   "language": "python",
   "name": "python3"
  },
  "language_info": {
   "codemirror_mode": {
    "name": "ipython",
    "version": 3
   },
   "file_extension": ".py",
   "mimetype": "text/x-python",
   "name": "python",
   "nbconvert_exporter": "python",
   "pygments_lexer": "ipython3",
   "version": "3.12.4"
  }
 },
 "nbformat": 4,
 "nbformat_minor": 5
}
