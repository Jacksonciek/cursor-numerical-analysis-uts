{
 "cells": [
  {
   "cell_type": "markdown",
   "metadata": {
    "id": "a5o2sGdEvrSd"
   },
   "source": [
    "![image.png](attachment:image.png)\n",
    "<center>\n",
    "    <h3>UJIAN TENGAH SEMESTER GENAP TAHUN AKADEMIK 2021/2022</h3>\n",
    "    <h3>PROGRAM STUDI INFORMATIKA</h3>\n",
    "    <h3>FAKULTAS TEKNIK DAN INFORMATIKA</h3>\n",
    "    <h3>UNIVERSITAS MULTIMEDIA NUSANTARA</h3>\n",
    "</center>\n",
    "\n",
    "---"
   ]
  },
  {
   "cell_type": "markdown",
   "metadata": {
    "id": "sHZ1-GsRvrSq"
   },
   "source": [
    "<b>Petunjuk:</b>\n",
    "<ul>\n",
    "    <li>Setiap butir pertanyaan memiliki bobot penilaiannya masing-masing</li>\n",
    "    <li>Usahakan untuk mengerjakan setiap butir pertanyaan sesuai dengan perintah yang diberikan dan di tempat yang disediakan</li>\n",
    "    <li>Tulis nama dan NIM Anda di dalam blok cell di bawah ini! Tampilkan dengan perintah print!</li>\n",
    "</ul>"
   ]
  },
  {
   "cell_type": "code",
   "execution_count": 223,
   "metadata": {
    "colab": {
     "base_uri": "https://localhost:8080/"
    },
    "id": "aQKiAIugvrSt",
    "outputId": "928bebaf-a7cc-4f22-c372-7f07d09daa7a"
   },
   "outputs": [
    {
     "name": "stdout",
     "output_type": "stream",
     "text": [
      "Nama:\n",
      " Tesalonika Abigail\n",
      "NIM:\n",
      " 00000044503\n"
     ]
    }
   ],
   "source": [
    "# input nama dan nim Anda di sini\n",
    "nama = 'Tesalonika Abigail'\n",
    "nim = '00000044503'\n",
    "print(f'Nama:\\n {nama}')\n",
    "print(f'NIM:\\n {nim}')"
   ]
  },
  {
   "cell_type": "markdown",
   "metadata": {
    "id": "pDwpKHYwvrSx"
   },
   "source": [
    "<u><h3>SOAL 1 (Total Bobot: 30%)</h3></u>\n",
    "Gunakan metode Gauss-Seidel (metode iterative) untuk mendapatkan solusi dari sistem persamaan linear berikut dengan nilai threshold $𝜖=0.01$:<br>\n",
    "$ 4𝑥_1+𝑥_2−2𝑥_3=2 $<br>\n",
    "$ −2𝑥_1−8𝑥_2+5𝑥_3=5 $<br>\n",
    "$ 𝑥_1+𝑥_2+8x_3=−3 $<br>\n",
    "Jangan lupa untuk mengecek kondisi kekonvergenan dipenuhi atau tidak terlebih dahulu untuk permasalahan tersebut!"
   ]
  },
  {
   "cell_type": "code",
   "execution_count": 224,
   "metadata": {
    "colab": {
     "base_uri": "https://localhost:8080/"
    },
    "id": "9XYeJbCTvrSz",
    "outputId": "c4e3c62d-920d-4dad-f966-163e1b51a6c7"
   },
   "outputs": [
    {
     "name": "stdout",
     "output_type": "stream",
     "text": [
      "Matrix is diagonally dominant - Konvergen\n"
     ]
    }
   ],
   "source": [
    "# cek kondisi konvergen - diagonally dominance (Bobot maks: 10%)\n",
    "import numpy as np #Saya selalu import pak agar keitungnya di 1 cell itu lengkap, \n",
    "                   #jadi data-datanya juga selalu saya declare ulang, terimakasih\n",
    "\n",
    "a = ([[4, 1, -2], [-2, -8, 5], [1, 1, 8]])\n",
    "#y = ([2, 5, -3])\n",
    "\n",
    "diagCoef = np.diag(np.abs(a)) #Finding diagonal coefficient\n",
    "noDCoef = np.sum(np.abs(a), axis = 1) - diagCoef #Finding row sun without diagonal\n",
    "\n",
    "if(np.all(diagCoef > noDCoef)):\n",
    "  print(\"Matrix is diagonally dominant - Konvergen\")\n",
    "else:\n",
    "  print(\"Matrix is not diagonally dominant\")\n"
   ]
  },
  {
   "cell_type": "code",
   "execution_count": 225,
   "metadata": {
    "colab": {
     "base_uri": "https://localhost:8080/"
    },
    "id": "9-N_MtjKvrS0",
    "outputId": "8dcfc93b-edf0-42e8-da37-1585dc91dc5c"
   },
   "outputs": [
    {
     "name": "stdout",
     "output_type": "stream",
     "text": [
      "Iteration Result:\n",
      "k,   x1,   x2,   x3\n",
      "1,   0.5000,   -0.7500,   -0.3438\n",
      "2,   0.5156,   -0.9688,   -0.3184\n",
      "3,   0.5830,   -0.9697,   -0.3267\n",
      "4,   0.5791,   -0.9739,   -0.3256\n",
      "Converged !\n"
     ]
    }
   ],
   "source": [
    "# Gauss-Seidel iterative method (Bobot maks: 20%)\n",
    "import numpy as np\n",
    "\n",
    "x1 = 0  # y = ([[2, 5, -3]])\n",
    "x2 = 0\n",
    "x3 = 0\n",
    "eps = 0.01 #Nilai thereshold\n",
    "converged = False\n",
    "\n",
    "xOld = np.array([x1, x2, x3])\n",
    "print(\"Iteration Result:\")\n",
    "print(\"k,   x1,   x2,   x3\")\n",
    "\n",
    "for i1 in range(1, 50):\n",
    "  x1 = (2-1*x2+2*x3)/4\n",
    "  x2 = (5+2*x1-5*x3)/(-8)\n",
    "  x3 = (-3-1*x1-1*x2)/8\n",
    "  x = np.array([x1, x2, x3])\n",
    "\n",
    "  dx = np.sqrt(np.dot(x - xOld, x - xOld)) #For checking if it's smaller than thereshold\n",
    "\n",
    "  print(\"%d,   %.4f,   %.4f,   %.4f\"%(i1, x1, x2, x3)) #4 angka di belakang koma\n",
    "  if(dx < eps): #Ini ngecek nya\n",
    "    converged = True\n",
    "    print(\"Converged !\")\n",
    "    break\n",
    "  \n",
    "  xOld = x #Assigning the latest x value to old x\n",
    "\n",
    "if(not converged):\n",
    "  print(\"Not Converged, increase the number of iteration !\")\n"
   ]
  },
  {
   "cell_type": "markdown",
   "metadata": {
    "id": "vszFUx4IvrS2"
   },
   "source": [
    "<u><h3>SOAL 2 (Total Bobot: 30%)</h3></u>\n",
    "<h3>Soal 2 A (Bobot: 20%)</h3>\n",
    "Carilah nilai eigen dan vektor eigen untuk matrix\n",
    "$$\\begin{bmatrix} 2 & 1 & 2 \\\\ 1 & 3 & 2 \\\\ 2 & 4 & 1 \\end{bmatrix}$$\n",
    "dengan menggunakan Power method. Anda bisa mencoba dengan vektor awal [1, 1, 1] dan 10 kali iterasi."
   ]
  },
  {
   "cell_type": "code",
   "execution_count": 226,
   "metadata": {
    "colab": {
     "base_uri": "https://localhost:8080/"
    },
    "id": "0IuDks57vrS4",
    "outputId": "444d8bd3-2c0c-41d9-fbd2-dc065f33f059"
   },
   "outputs": [
    {
     "name": "stdout",
     "output_type": "stream",
     "text": [
      "\n",
      "Eigenvalue\t:  6.029110693230817\n",
      "Eigenvector\t:  [0.71918698 0.89768456 1.        ]\n",
      "\n",
      "Smallest Eigenvalue\t:  1.3758229157081883\n",
      "Smallest Eigenvector\t:  [ 1.         -0.1575591  -0.64292587]\n"
     ]
    }
   ],
   "source": [
    "# Mencari max Eigenvalue dan Eigenvector dengan Power method (Bobot maks: 20%)\n",
    "import numpy as np\n",
    "\n",
    "b = ([[2, 1, 2], [1, 3, 2], [2, 4, 1]])\n",
    "x_21 = [1, 1, 1]\n",
    "x_22 = [1, 1, 1]\n",
    "\n",
    "def normalize(x):\n",
    "  fac = abs(x).max()\n",
    "  xn = x/x.max()\n",
    "  return fac, xn\n",
    "\n",
    "for i2 in range(1, 11):\n",
    "  x_21 = np.dot(b, x_21)\n",
    "  lambda21, x_21 = normalize(x_21)\n",
    "  \n",
    "\n",
    "print(\"\\nEigenvalue\\t: \", lambda21)\n",
    "print(\"Eigenvector\\t: \", x_21)\n",
    "\n",
    "#Untuk smallest eigenvalue\n",
    "from numpy.linalg import inv\n",
    "\n",
    "bInv = inv(b)\n",
    "for i2 in range(1, 11):\n",
    "  x_22 = np.dot(bInv, x_22)\n",
    "  lambda22, x_22 = normalize(x_22)\n",
    "\n",
    "print(\"\\nSmallest Eigenvalue\\t: \", lambda22)\n",
    "print(\"Smallest Eigenvector\\t: \", x_22)"
   ]
  },
  {
   "cell_type": "markdown",
   "metadata": {
    "id": "ldVBYjhfvrS5"
   },
   "source": [
    "<h3>Soal 2 B (Bobot: 10%)</h3>\n",
    "Carilah seluruh nilai eigen dan vektor eigen untuk permasalahan di Soal 2 A dengan menggunakan <i>built-in function</i> <b>eig</b> dari numpy.linalg!"
   ]
  },
  {
   "cell_type": "code",
   "execution_count": 227,
   "metadata": {
    "colab": {
     "base_uri": "https://localhost:8080/"
    },
    "id": "Luys7sbZvrS7",
    "outputId": "ac1ee2da-17e6-4c4a-d512-a8252e1f7914"
   },
   "outputs": [
    {
     "name": "stdout",
     "output_type": "stream",
     "text": [
      "Eigen Value:\n",
      "  [ 6.02911192  1.33625596 -1.36536788]\n",
      "\n",
      "Eigen Vector:\n",
      "  [[-0.47185751 -0.88987496 -0.42138925]\n",
      " [-0.58896955  0.45081499 -0.29617582]\n",
      " [-0.65609859  0.0699171   0.85715284]]\n"
     ]
    }
   ],
   "source": [
    "# Mencari seluruh eigenvalues dan eigenvectors dengan built-in function eig (Bobot maks: 10%)\n",
    "import numpy as np\n",
    "from numpy.linalg import eig\n",
    "\n",
    "b = ([[2, 1, 2], [1, 3, 2], [2, 4, 1]])\n",
    "\n",
    "eval, evec = eig(b)\n",
    "print(\"Eigen Value:\\n \", eval)\n",
    "print(\"\\nEigen Vector:\\n \", evec)\n"
   ]
  },
  {
   "cell_type": "markdown",
   "metadata": {
    "id": "rl9P37kdvrS8"
   },
   "source": [
    "<u><h3>SOAL 3 (Total Bobot: 20%)</h3></u>\n",
    "Misal diberikan data buatan yang diperoleh dengan formulasi $ 𝑥=𝑛𝑝.𝑙𝑖𝑛𝑠𝑝𝑎𝑐𝑒(0, 1, 101) $ dan $ 𝑦=100-𝑥-𝑥∗𝑛𝑝.𝑟𝑎𝑛𝑑𝑜𝑚.𝑟𝑎𝑛𝑑𝑜𝑚(𝑙𝑒𝑛(𝑥)) $.<br>\n",
    "Gunakan metode Least Squares Regression (LSR) dengan fungsi estimasi yang didefinisikan sebagai $ 𝑦 ̂=𝛼_1 𝑥+ 𝛼_2 $.<br>\n",
    "Bandingkan hasilnya dengan metode <b>Pseudo-inverse</b> dan <i>built-in function</i> <b>lstsq</b> dari numpy.<br>\n",
    "Plot titik-titik data yang dihasilkan dari formulasi tersebut bersama dengan hasil pendekatan LSR-nya."
   ]
  },
  {
   "cell_type": "code",
   "execution_count": 228,
   "metadata": {
    "colab": {
     "base_uri": "https://localhost:8080/"
    },
    "id": "qe7asWtnvrS9",
    "outputId": "dca4d567-e987-4d76-bfbc-d0d774f469cf"
   },
   "outputs": [
    {
     "name": "stdout",
     "output_type": "stream",
     "text": [
      "Direct Least Square Regression Method:\n",
      " [[ -1.57231896]\n",
      " [100.01081334]]\n",
      "\n",
      "Pseudo-Invers Method:\n",
      " [[ -1.57231896]\n",
      " [100.01081334]]\n",
      "\n",
      "Built-in lstsq Method:\n",
      " [[ -1.57231896]\n",
      " [100.01081334]]\n"
     ]
    }
   ],
   "source": [
    "# bangun titik-titik data x dan y (Bobot: 2%)\n",
    "import numpy as np\n",
    "\n",
    "x = np.linspace(0, 1, 101)\n",
    "y = 100 - x - x * np.random.random(len(x))\n",
    "\n",
    "# bangun matrix A dan ubah y menjadi vektor kolom (Bobot: 2%)\n",
    "A = np.vstack([x, np.ones(len(x))]).T\n",
    "y = y[:, np.newaxis]\n",
    "\n",
    "# Direct Least Square Regression (Bobot: 5%)\n",
    "def my_ls_params1(A, y):\n",
    "    a = np.dot((np.dot(np.linalg.inv(np.dot(A.T, A)), A.T)), y)\n",
    "    return a\n",
    "\n",
    "# Pseudo-inverse method (Bobot: 3%)\n",
    "def my_ls_params2(A, y):\n",
    "    pinv = np.linalg.pinv(A)\n",
    "    a = pinv.dot(y)\n",
    "    return a\n",
    "\n",
    "# Built-in lstsq dari numpy (Bobot: 3%)\n",
    "def my_ls_params3(A, y):\n",
    "  a = np.linalg.lstsq(A, y, rcond = None)[0]\n",
    "  return a\n",
    "\n",
    "beta1 = my_ls_params1(A, y)\n",
    "beta2 = my_ls_params2(A, y)\n",
    "beta3 = my_ls_params3(A, y)\n",
    "\n",
    "print(\"Direct Least Square Regression Method:\\n\", beta1)\n",
    "print(\"\\nPseudo-Invers Method:\\n\", beta1)\n",
    "print(\"\\nBuilt-in lstsq Method:\\n\", beta1)\n"
   ]
  },
  {
   "cell_type": "code",
   "execution_count": 229,
   "metadata": {
    "colab": {
     "base_uri": "https://localhost:8080/",
     "height": 409
    },
    "id": "xJOvrMa1vrS_",
    "outputId": "dd980ece-ae98-48dc-ef71-37d42baec632"
   },
   "outputs": [
    {
     "data": {
      "image/png": "[encoded data removed]",
      "text/plain": [
       "<Figure size 576x432 with 1 Axes>"
      ]
     },
     "metadata": {
      "needs_background": "light"
     },
     "output_type": "display_data"
    }
   ],
   "source": [
    "# Plot hasil (Bobot maks: 5%)\n",
    "import numpy as np\n",
    "import matplotlib.pyplot as plt\n",
    "\n",
    "x = np.linspace(0, 1, 101)\n",
    "y = 100 - x - x * np.random.random(len(x))\n",
    "\n",
    "plt.style.use('seaborn-poster')\n",
    "plt.figure(figsize = (8,6))\n",
    "plt.plot(x, y, 'b.', label = \"Data Points\") #Blue dot\n",
    "plt.plot(x, beta1[0]*x + beta1[1], 'r', label = \"Estimation Function\") #Red lines\n",
    "plt.xlabel(\"x\")\n",
    "plt.ylabel(\"y\")\n",
    "plt.legend()\n",
    "plt.show()\n"
   ]
  },
  {
   "cell_type": "markdown",
   "metadata": {
    "id": "thbJwUAtvrS_"
   },
   "source": [
    "<u><h3>SOAL 4 (Total Bobot: 20%)</h3></u>\n",
    "<h3>Soal 4 A (Bobot: 10%)</h3>\n",
    "Buat sebuah definisi fungsi <b>my_lagrange(x, y, X)</b> dimana output Y adalah hasil interpolasi Lagrange dari titik-titik data yang ada di x dan y yang dihitung terhadap data-data di X.<br>\n",
    "Petunjuk: Gunakan <i>nested for-loop</i>, dimana <i>inner for-loop</i> digunakan untuk menghitung hasil kali dari Lagrange basis polynomial dan <i>outer for-loop</i> digunakan untuk menghitung jumlahan dari Lagrange polynomial. Jangan menggunakan fungsi lagrange yang tersedia di scipy."
   ]
  },
  {
   "cell_type": "code",
   "execution_count": 230,
   "metadata": {
    "id": "5aPPYvo3vrTA"
   },
   "outputs": [],
   "source": [
    "# definisi my_lagrange function (Bobot maks: 10%)\n",
    "import numpy as np\n",
    "\n",
    "def my_lagrange(x, y, X):\n",
    "  Y = 0\n",
    "  l = len(x)\n",
    "\n",
    "  for i4 in range (l):\n",
    "    p = 1\n",
    "    for j4 in range(l):\n",
    "      if(i4 != j4):\n",
    "        px = X - x[j4]\n",
    "        dx = x[i4] - x[j4]\n",
    "        p = p * px/dx\n",
    "        Y2 = y[i4] * p\n",
    "    Y = Y + Y2\n",
    "  return Y\n"
   ]
  },
  {
   "cell_type": "markdown",
   "metadata": {
    "id": "sSydR0lBvrTC"
   },
   "source": [
    "<h3>Soal 4 B (Bobot: 10%)</h3>\n",
    "Dengan menggunakan fungsi yang telah didefinisikan pada Soal 4 A dan titik-titik data dummy berikut<br>\n",
    "$ x = [0, 1, 2, 3, 4] $<br>\n",
    "$ y = [2, 1, 3, 5, 1] $<br>\n",
    "$ X = np.linspace(0, 4, 101) $<br>\n",
    "Sajikan plot tiap titik data dan interpolasi Lagrange yang dihasilkan!"
   ]
  },
  {
   "cell_type": "code",
   "execution_count": 231,
   "metadata": {
    "colab": {
     "base_uri": "https://localhost:8080/",
     "height": 409
    },
    "id": "jcM_rFoqvrTD",
    "outputId": "aa081dbb-176a-4042-edd8-640e8e71627f"
   },
   "outputs": [
    {
     "data": {
      "image/png": "[encoded data removed]",
      "text/plain": [
       "<Figure size 576x432 with 1 Axes>"
      ]
     },
     "metadata": {
      "needs_background": "light"
     },
     "output_type": "display_data"
    }
   ],
   "source": [
    "# bangun titik-titik data x, y, dan X (Bobot: 3%)\n",
    "import numpy as np\n",
    "\n",
    "x = [0, 1, 2, 3, 4]\n",
    "y = [2, 1, 3, 5, 1]\n",
    "X = np.linspace(0, 4, 101)\n",
    "Y = my_lagrange(x, y, X)\n",
    "\n",
    "# Plot hasil (Bobot maks: 7%)\n",
    "import matplotlib.pyplot as plt\n",
    "plt.style.use('seaborn-poster')\n",
    "plt.figure(figsize = (8, 6)) # Agar tidak terlalu besar\n",
    "plt.plot(X, Y, \"r\", label = \"Interpolation\") #Blue\n",
    "plt.plot(x, y, \"bo\", label = \"Data Points\") #Blue Dots\n",
    "plt.xlabel(\"x\")\n",
    "plt.ylabel(\"y\")\n",
    "plt.legend() #Untuk memberikan keterngan dari dots dan lines\n",
    "plt.show()\n"
   ]
  },
  {
   "cell_type": "code",
   "execution_count": 231,
   "metadata": {
    "id": "aADbmZrZvrTD"
   },
   "outputs": [],
   "source": []
  }
 ],
 "metadata": {
  "colab": {
   "collapsed_sections": [],
   "name": "TesalonikaAbigail_00000044503_IF420_B_UTS",
   "provenance": []
  },
  "kernelspec": {
   "display_name": "Python 3 (ipykernel)",
   "language": "python",
   "name": "python3"
  },
  "language_info": {
   "codemirror_mode": {
    "name": "ipython",
    "version": 3
   },
   "file_extension": ".py",
   "mimetype": "text/x-python",
   "name": "python",
   "nbconvert_exporter": "python",
   "pygments_lexer": "ipython3",
   "version": "3.12.1"
  }
 },
 "nbformat": 4,
 "nbformat_minor": 4
}
