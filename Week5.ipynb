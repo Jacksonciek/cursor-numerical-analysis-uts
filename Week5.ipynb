{
 "cells": [
  {
   "cell_type": "code",
   "execution_count": 30,
   "metadata": {},
   "outputs": [
    {
     "name": "stdout",
     "output_type": "stream",
     "text": [
      "Characteristic equation :  [ 1. -6. -2.]\n",
      "\n",
      "\n",
      "Coefficient of λ^2 : 1\n",
      "Coefficient of λ : -6\n",
      "Constant term : -2\n",
      "\n",
      "Characteristic equation in λ : \n",
      "( 1 )λ^2 + ( -6 )λ + ( -2 )\n",
      "\n",
      "\n",
      "Eigenvalue :  [ 6.02911192  1.33625596 -1.36536788]\n",
      "Eigenvector :  [[-0.47185751 -0.88987496 -0.42138925]\n",
      " [-0.58896955  0.45081499 -0.29617582]\n",
      " [-0.65609859  0.0699171   0.85715284]]\n",
      "\n",
      "\n",
      "Explanation : \n",
      "When eigenvalue =  6.029111920025985 , the eigenvector is  [-0.47185751 -0.58896955 -0.65609859]\n",
      "When eigenvalue =  1.3362559632125934 , the eigenvector is  [-0.88987496  0.45081499  0.0699171 ]\n",
      "When eigenvalue =  -1.3653678832385765 , the eigenvector is  [-0.42138925 -0.29617582  0.85715284]\n",
      "\n",
      "\n",
      "Check proving Ax = λx : \n",
      "Proved\n",
      "Ax = λx\n",
      "Ax =  [-2.84488175 -3.55096334 -3.95569181]\n",
      "λx =  [-2.84488175 -3.55096334 -3.95569181]\n"
     ]
    }
   ],
   "source": [
    "import numpy as np\n",
    "from numpy.linalg import eig\n",
    "\n",
    "a = np.array([[2,1,2],\n",
    "              [1,3,2],\n",
    "              [2,4,1]])\n",
    "\n",
    "characteristicEquation =  np.poly(a)\n",
    "print(\"Characteristic equation : \", characteristicEquation[:3])\n",
    "\n",
    "print(\"\\n\")\n",
    "c1 = round(characteristicEquation[0])\n",
    "c2 = round(characteristicEquation[1])\n",
    "c3 = round(characteristicEquation[2])\n",
    "print(\"Coefficient of λ^2 :\", c1)\n",
    "print(\"Coefficient of λ :\",  c2)\n",
    "print(\"Constant term :\", c3)\n",
    "print(\"\\nCharacteristic equation in λ : \")\n",
    "print(\"(\", c1, \")λ^2 + (\", c2, \")λ + (\" , c3, \")\")\n",
    "print(\"\\n\")\n",
    "\n",
    "value, vector = eig(a)\n",
    "\n",
    "print(\"Eigenvalue : \", value)\n",
    "print(\"Eigenvector : \", vector)\n",
    "print(\"\\n\")\n",
    "\n",
    "print(\"Explanation : \")\n",
    "for i in range(len(value)):\n",
    "    print(\"When eigenvalue = \", value[i], \", the eigenvector is \", vector[:,i])\n",
    "\n",
    "print(\"\\n\")\n",
    "print(\"Check proving Ax = λx : \")\n",
    "x = vector[:, 0]\n",
    "lambdaOriginal = value[0]\n",
    "\n",
    "Ax = np.dot(a,x)\n",
    "lambdaX = lambdaOriginal * x\n",
    "\n",
    "if np.allclose(Ax, lambdaX):\n",
    "    print(\"Proved\\nAx = λx\")\n",
    "    print(\"Ax = \", Ax)\n",
    "    print(\"λx = \", lambdaX)\n",
    "else :\n",
    "    print(\"Ax ≠ λx\")"
   ]
  },
  {
   "cell_type": "code",
   "execution_count": 1,
   "metadata": {},
   "outputs": [
    {
     "name": "stdout",
     "output_type": "stream",
     "text": [
      "Eigen Value :  [ 5.97196077  0.42346527 -0.39542603]\n",
      "Eigen Vector :  [[-0.38285759 -0.93567397  0.18171141]\n",
      " [-0.60097347  0.10061581 -0.53826044]\n",
      " [-0.70160599  0.33821692  0.82295605]]\n",
      "True\n"
     ]
    }
   ],
   "source": [
    "#Build-in function\n",
    "\n",
    "import numpy as np\n",
    "from numpy.linalg import eig\n",
    "\n",
    "a = np.array([[1,2,1],\n",
    "              [1,3,2],\n",
    "              [1,4,2]])\n",
    "\n",
    "w, v = eig(a)\n",
    "\n",
    "print(\"Eigen Value : \", w)\n",
    "print(\"Eigen Vector : \", v)\n",
    "\n",
    "#Verify Av = Bv\n",
    "\n",
    "b_1 = w[0]\n",
    "v_1 = v[:, 0]\n",
    "\n",
    "Av = np.dot(a, v_1)\n",
    "Bv = b_1 * v_1\n",
    "\n",
    "print(np.allclose(Av, Bv))"
   ]
  },
  {
   "cell_type": "code",
   "execution_count": 12,
   "metadata": {},
   "outputs": [
    {
     "name": "stdout",
     "output_type": "stream",
     "text": [
      "Eigen Value :  6.029103563824766\n",
      "Eigen Vector :  [0.71918796 0.8976846  1.        ]\n"
     ]
    }
   ],
   "source": [
    "#The Power Method\n",
    "\n",
    "import numpy as np\n",
    "\n",
    "def normalize(x):\n",
    "    fac = abs(x).max()\n",
    "    x_n = x / x.max()\n",
    "    return fac, x_n\n",
    "\n",
    "x = np.array([1, 0, 0]) #Initial Vector\n",
    "a = np.array([[2,1,2],\n",
    "              [1,3,2],\n",
    "              [2,4,1]])\n",
    "\n",
    "for i in range(10):\n",
    "    x = np.dot(a, x)\n",
    "    lambda_1, x = normalize(x)\n",
    "\n",
    "print(\"Eigen Value : \", lambda_1)\n",
    "print(\"Eigen Vector : \", x)"
   ]
  },
  {
   "cell_type": "code",
   "execution_count": 14,
   "metadata": {},
   "outputs": [
    {
     "name": "stdout",
     "output_type": "stream",
     "text": [
      "Eigen Value :  0.9934991520973002\n",
      "Eigen Vector :  [ 1.         -0.35899914 -0.31722874]\n"
     ]
    }
   ],
   "source": [
    "#The Inverse Power Method\n",
    "import numpy as np\n",
    "from numpy.linalg import inv\n",
    "\n",
    "x = np.array([1, 0,0])\n",
    "a = np.array([[2,1,2],\n",
    "              [1,3,2],\n",
    "              [2,4,1]])\n",
    "a_inv = inv(a)\n",
    "\n",
    "for i in range(10):\n",
    "    x = np.dot(a_inv, x)\n",
    "    lambda_1, x = normalize(x)\n",
    "\n",
    "print(\"Eigen Value : \", lambda_1)\n",
    "print(\"Eigen Vector : \", x)"
   ]
  },
  {
   "cell_type": "code",
   "execution_count": 9,
   "metadata": {},
   "outputs": [
    {
     "name": "stdout",
     "output_type": "stream",
     "text": [
      "Q :  [[-0.66666667  0.7028635  -0.24806947]\n",
      " [-0.33333333 -0.57882876 -0.74420841]\n",
      " [-0.66666667 -0.41344912  0.62017367]]\n",
      "R :  [[-3.         -4.33333333 -2.66666667]\n",
      " [ 0.         -2.68741925 -0.16537965]\n",
      " [ 0.          0.         -1.36438208]]\n",
      "QR :  [[2. 1. 2.]\n",
      " [1. 3. 2.]\n",
      " [2. 4. 1.]]\n"
     ]
    }
   ],
   "source": [
    "#The QR Method\n",
    "\n",
    "import numpy as np\n",
    "from numpy.linalg import qr\n",
    "\n",
    "a = np.array([[2,1,2],\n",
    "              [1,3,2],\n",
    "              [2,4,1]])\n",
    "\n",
    "q, r = qr(a)\n",
    "\n",
    "print(\"Q : \", q)\n",
    "print(\"R : \", r)\n",
    "\n",
    "b = np.dot(q, r)\n",
    "print(\"QR : \", b)"
   ]
  },
  {
   "cell_type": "code",
   "execution_count": 10,
   "metadata": {},
   "outputs": [
    {
     "name": "stdout",
     "output_type": "stream",
     "text": [
      "Iteration 1 : \n",
      "[[ 5.22222222  1.50219845  2.31531505]\n",
      " [ 1.00605951  1.62393162  1.8974359 ]\n",
      " [ 0.90958805  0.56410256 -0.84615385]]\n",
      "Iteration 5 : \n",
      "[[ 6.02812002e+00  3.75618790e-01  1.72575407e+00]\n",
      " [ 3.17029489e-03  1.24119039e+00  1.15958282e+00]\n",
      " [ 2.82220427e-03  2.14708273e-01 -1.26931041e+00]]\n",
      "Iteration 10 : \n",
      "[[ 6.02911198e+00  6.73669653e-01 -1.62959103e+00]\n",
      " [ 2.66148816e-06  1.40199227e+00 -6.73686284e-01]\n",
      " [ 1.78779828e-06  2.70029791e-01 -1.43110425e+00]]\n",
      "Iteration 20 : \n",
      "[[ 6.02911192e+00  7.12863476e-01 -1.61283217e+00]\n",
      " [ 7.72198323e-13  1.41009131e+00 -6.04983479e-01]\n",
      " [ 6.37828516e-13  3.38731545e-01 -1.43920323e+00]]\n"
     ]
    }
   ],
   "source": [
    "#The QR Method with iteration\n",
    "\n",
    "import numpy as np\n",
    "from numpy.linalg import qr\n",
    "\n",
    "a = np.array([[2,1,2],\n",
    "              [1,3,2],\n",
    "              [2,4,1]])\n",
    "\n",
    "p = [1, 5, 10, 20]\n",
    "\n",
    "for i in range(20):\n",
    "    q, r = qr(a)\n",
    "    a = np.dot(r, q)\n",
    "    if i + 1 in p:\n",
    "        print(f\"Iteration {i + 1} : \")\n",
    "        print(a)"
   ]
  },
  {
   "cell_type": "code",
   "execution_count": null,
   "metadata": {},
   "outputs": [],
   "source": [
    "#Grafik Eigenvectors\n",
    "\n",
    "import numpy as np\n",
    "import matplotlib.pyplot as plt\n",
    "\n",
    "def plot_vect(x, b, xlim, ylim):\n",
    "    plt.figure(figsize=(10, 6))\n",
    "    plt.quiver(0, 0, x[0], x[1], color='k', angles='xy', scale_units='xy', scale=1, label='Original vector')\n",
    "    plt.quiver(0, 0, b[0], b[1], color='g', angles='xy', scale_units='xy', scale=1, label='Transformed vector')\n",
    "    plt.xlim(xlim)\n",
    "    plt.ylim(ylim)\n",
    "    plt.xlabel('X')\n",
    "    plt.ylabel('Y')\n",
    "    plt.legend()\n",
    "    plt.show()\n",
    "\n",
    "a = np.array([[2, 1, 2],\n",
    "              [1, 3, 2],\n",
    "              [2, 4, 1]])\n",
    "x = np.array([[1], [0], [0]])  \n",
    "plot_vect(x, b, (0, 3), (0, 2))\n"
   ]
  }
 ],
 "metadata": {
  "kernelspec": {
   "display_name": "Python 3",
   "language": "python",
   "name": "python3"
  },
  "language_info": {
   "codemirror_mode": {
    "name": "ipython",
    "version": 3
   },
   "file_extension": ".py",
   "mimetype": "text/x-python",
   "name": "python",
   "nbconvert_exporter": "python",
   "pygments_lexer": "ipython3",
   "version": "3.12.1"
  }
 },
 "nbformat": 4,
 "nbformat_minor": 2
}
