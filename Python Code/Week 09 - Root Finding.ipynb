{
 "cells": [
  {
   "cell_type": "code",
   "execution_count": 1,
   "metadata": {},
   "outputs": [
    {
     "name": "stdout",
     "output_type": "stream",
     "text": [
      "r =  [0.73908513]\n",
      "Result =  [0.]\n"
     ]
    }
   ],
   "source": [
    "#Root Finding Problem Statement using fsolve froms scipy\n",
    "\n",
    "import numpy as np\n",
    "from scipy import optimize\n",
    "\n",
    "f = lambda x: np.cos(x) - x\n",
    "r = optimize.fsolve(f, -2)\n",
    "print(\"r = \", r)\n",
    "\n",
    "result = f(r)\n",
    "print(\"Result = \", result)"
   ]
  },
  {
   "cell_type": "code",
   "execution_count": 2,
   "metadata": {},
   "outputs": [
    {
     "name": "stdout",
     "output_type": "stream",
     "text": [
      "r =  [-3.52047359e+83]\n",
      "Result =  [-2.84052692e-84]\n",
      "The number of calls to function has reached maxfev = 400.\n"
     ]
    }
   ],
   "source": [
    "#Root Finding Problem Statement using fsolve froms scipy & full_output\n",
    "\n",
    "import numpy as np\n",
    "from scipy import optimize\n",
    "\n",
    "f = lambda x: 1/x\n",
    "r, infodict, ier, mesg = optimize.fsolve(f, -2, full_output = True)\n",
    "print(\"r = \", r)\n",
    "\n",
    "result = f(r)\n",
    "print(\"Result = \", result)\n",
    "\n",
    "print(mesg)"
   ]
  },
  {
   "cell_type": "code",
   "execution_count": 3,
   "metadata": {},
   "outputs": [
    {
     "name": "stdout",
     "output_type": "stream",
     "text": [
      "r1 =  1.4375\n",
      "r01 =  1.4140625\n",
      "f(r1) =  0.06640625\n",
      "f(r01) =  -0.00042724609375\n"
     ]
    }
   ],
   "source": [
    "#Bisection Method\n",
    "\n",
    "import numpy as np\n",
    "\n",
    "def my_bisection(f, a, b, tol):\n",
    "    if np.sign(f(a)) == np.sign(f(b)):\n",
    "        raise Exception(\"The scalars a and b do not bound a root\")\n",
    "    m = (a+b)/2\n",
    "    if np.abs(f(m)) < tol:\n",
    "        return m\n",
    "    elif np.sign(f(a)) == np.sign(f(m)):\n",
    "        return my_bisection(f, m, b, tol)\n",
    "    elif np.sign(f(b)) == np.sign(f(m)):\n",
    "        return my_bisection(f, a, m, tol)\n",
    "\n",
    "f = lambda x: x**2 - 2\n",
    "r1 = my_bisection(f, 0, 2, 0.1)\n",
    "print(\"r1 = \", r1)\n",
    "r01 = my_bisection(f, 0, 2, 0.01)\n",
    "print(\"r01 = \", r01)\n",
    "\n",
    "print(\"f(r1) = \", f(r1))\n",
    "print(\"f(r01) = \", f(r01))"
   ]
  },
  {
   "cell_type": "code",
   "execution_count": 4,
   "metadata": {},
   "outputs": [
    {
     "name": "stdout",
     "output_type": "stream",
     "text": [
      "newton_raphson =  1.4142857142857144\n",
      "sqrt(2) =  1.4142135623730951\n"
     ]
    }
   ],
   "source": [
    "#Newton-Raphson method\n",
    "\n",
    "f = lambda x: x**2 - 2\n",
    "f_prime = lambda x: 2*x\n",
    "newton_raphson = 1.4 - (f(1.4))/(f_prime(1.4))\n",
    "\n",
    "print(\"newton_raphson = \", newton_raphson)\n",
    "print(\"sqrt(2) = \", np.sqrt(2))"
   ]
  },
  {
   "cell_type": "code",
   "execution_count": 5,
   "metadata": {},
   "outputs": [
    {
     "name": "stdout",
     "output_type": "stream",
     "text": [
      "estimate =  1.4142135623746899\n",
      "sqrt(2) =  1.4142135623730951\n"
     ]
    }
   ],
   "source": [
    "#Newton-Raphson method using error tolerance / error measurement\n",
    "\n",
    "def my_newton(f, df, x0, tol):\n",
    "    if abs(f(x0)) < tol:\n",
    "        return x0\n",
    "    else:\n",
    "        return my_newton(f, df, x0 - f(x0)/df(x0), tol)\n",
    "    \n",
    "estimate = my_newton(f, f_prime, 1.5, 1e-6)\n",
    "print(\"estimate = \", estimate)\n",
    "print(\"sqrt(2) = \", np.sqrt(2))"
   ]
  },
  {
   "cell_type": "code",
   "execution_count": 6,
   "metadata": {},
   "outputs": [
    {
     "name": "stdout",
     "output_type": "stream",
     "text": [
      "x1 =  -688.4516883116648\n"
     ]
    }
   ],
   "source": [
    "#Newton-Raphson method with equation x^3+3x^2-2x-5 and x0 = 0.29\n",
    "\n",
    "x0 = 0.29\n",
    "x1 = x0-(x0**3+3*x0**2-2*x0-5)/(3*x0**2+6*x0-2)\n",
    "print(\"x1 = \", x1)"
   ]
  },
  {
   "cell_type": "code",
   "execution_count": 7,
   "metadata": {},
   "outputs": [
    {
     "data": {
      "text/plain": [
       "array([  1., 100.])"
      ]
     },
     "execution_count": 7,
     "metadata": {},
     "output_type": "execute_result"
    }
   ],
   "source": [
    "#Root Finding in Python\n",
    "\n",
    "import numpy as np\n",
    "from scipy import optimize\n",
    "\n",
    "f = lambda x: x**3-100*x**2-x+100\n",
    "optimize.fsolve(f, [2, 80])"
   ]
  }
 ],
 "metadata": {
  "kernelspec": {
   "display_name": "Python 3",
   "language": "python",
   "name": "python3"
  },
  "language_info": {
   "codemirror_mode": {
    "name": "ipython",
    "version": 3
   },
   "file_extension": ".py",
   "mimetype": "text/x-python",
   "name": "python",
   "nbconvert_exporter": "python",
   "pygments_lexer": "ipython3",
   "version": "3.12.1"
  }
 },
 "nbformat": 4,
 "nbformat_minor": 2
}
