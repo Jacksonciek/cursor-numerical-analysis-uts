{
 "cells": [
  {
   "cell_type": "code",
   "execution_count": 5,
   "metadata": {},
   "outputs": [
    {
     "name": "stdout",
     "output_type": "stream",
     "text": [
      "Equations :\n",
      "\n",
      "4𝑥1 + 𝑥2 - 2𝑥3 = 2\n",
      "-2𝑥1 - 8𝑥2 -  7𝑥3 = 5\n",
      "𝑥1 + 𝑥2 + 8𝑥3 = -3\n",
      "\n",
      "Equations to Matrix\n",
      "\n",
      "[4\t-1\t-2]\t[x1]\t    [2]\n",
      "[-2\t-8\t-7]\t[x2]\t=   [14]\n",
      "[1\t 1\t 8]\t[x3]\t    [54]\n",
      "\n",
      "Augmented Matrix : \n",
      "\n",
      "[[4, 1, -2, 2], [-2, -8, -7, 5], [1, 1, 8, -3]]\n",
      "\n",
      "Result:\n",
      "x1 = 0.333\n",
      "x2 = -0.36\n",
      "x3 = -0.286\n"
     ]
    }
   ],
   "source": [
    "#Gauss Manual\n",
    "\n",
    "import numpy as np\n",
    "\n",
    "def gaussElimination(A, B):\n",
    "    n = len(A)\n",
    "    for i in range(n):\n",
    "        maxRow = i\n",
    "        for k in range(i+1, n):\n",
    "            if abs(A[k][i]) > abs(A[maxRow][i]):\n",
    "                maxRow = k\n",
    "        A[i], A[maxRow] = A[maxRow], A[i]\n",
    "        B[i], B[maxRow] = B[maxRow], B[i]\n",
    "        for k in range(i+1, n):\n",
    "            faktor = A[k][i] / A[i][i]\n",
    "            B[k] -= faktor * B[i]\n",
    "            for j in range(i, n):\n",
    "                A[k][j] -= faktor * A[i][j]\n",
    "    X = [0] * n\n",
    "    for i in range(n-1, -1, -1):\n",
    "        X[i] = B[i] / A[i][i]\n",
    "        for k in range(i-1, -1, -1):\n",
    "            B[k] -= A[k][i] * X[i]\n",
    "    return X\n",
    "\n",
    "A = [[3,1,-2],[-2,-9,-7],[1,1,7]]\n",
    "\n",
    "X = np.array([2, 5, -3])\n",
    "\n",
    "solution = gaussElimination(A, X)\n",
    "\n",
    "print(\"Equations :\\n\")\n",
    "print(\"4𝑥1 + 𝑥2 - 2𝑥3 = 2\")\n",
    "print(\"-2𝑥1 - 8𝑥2 -  7𝑥3 = 5\")\n",
    "print(\"𝑥1 + 𝑥2 + 8𝑥3 = -3\")\n",
    "\n",
    "print(\"\\nEquations to Matrix\\n\")\n",
    "print(\"[4\\t-1\\t-2]\\t[x1]\\t    [2]\")\n",
    "print(\"[-2\\t-8\\t-7]\\t[x2]\\t=   [14]\")\n",
    "print(\"[1\\t 1\\t 8]\\t[x3]\\t    [54]\")\n",
    "\n",
    "print(\"\\nAugmented Matrix : \\n\")\n",
    "a = [[4, 1, -2, 2],\n",
    "     [-2, -8, -7, 5],\n",
    "     [1, 1, 8,-3]]\n",
    "print(a)\n",
    "\n",
    "print(\"\\nResult:\")\n",
    "for i, x in enumerate(solution):\n",
    "    rounded_x = round(x, 3)\n",
    "    print(f\"x{i+1} = {rounded_x}\")\n"
   ]
  },
  {
   "cell_type": "code",
   "execution_count": 4,
   "metadata": {},
   "outputs": [
    {
     "name": "stdout",
     "output_type": "stream",
     "text": [
      "Equations :\n",
      "\n",
      "4𝑥1 + 𝑥2 - 2𝑥3 = 2\n",
      "-2𝑥1 - 8𝑥2 -  7𝑥3 = 5\n",
      "𝑥1 + 𝑥2 + 8𝑥3 = -3\n",
      "\n",
      "Equations to Matrix\n",
      "\n",
      "[4\t-1\t-2]\t[x1]\t    [2]\n",
      "[-2\t-8\t-7]\t[x2]\t=   [14]\n",
      "[1\t 1\t 8]\t[x3]\t    [54]\n",
      "\n",
      "Augmented Matrix : \n",
      "\n",
      "[[4, 1, -2, 2], [-2, -8, -7, 5], [1, 1, 8, -3]]\n",
      "\n",
      "Result:\n",
      "[0.46857142857142847, -0.30857142857142844, -0.45142857142857146] \n",
      "\n",
      "x1 = 0.469\n",
      "x2 = -0.309\n",
      "x3 = -0.451\n"
     ]
    }
   ],
   "source": [
    "#Gauss Jordan Manual\n",
    "\n",
    "import numpy as np\n",
    "\n",
    "def gaussJordanElimination(A, B):\n",
    "    n = len(A)\n",
    "    M = A\n",
    "    i = 0\n",
    "    for x in M:\n",
    "        x.append(B[i])\n",
    "        i += 1\n",
    "    for k in range(n):\n",
    "        for i in range(k, n):\n",
    "            if abs(M[i][k]) > abs(M[k][k]):\n",
    "                M[k], M[i] = M[i], M[k]\n",
    "            else:\n",
    "                pass\n",
    "        for j in range(k+1, n):\n",
    "            q = M[j][k] / M[k][k]\n",
    "            for m in range(k, n+1):\n",
    "                M[j][m] -= q * M[k][m]\n",
    "    x = [0 for i in range(n)]\n",
    "    x[n-1] = M[n-1][n] / M[n-1][n-1]\n",
    "    for i in range(n-1, -1, -1):\n",
    "        z = 0\n",
    "        for j in range(i+1, n):\n",
    "            z = z  + M[i][j]*x[j]\n",
    "        x[i] = (M[i][n] - z) / M[i][i]\n",
    "    return x\n",
    "\n",
    "A = [[3,1,-2],[-2,-9,-7],[1,1,7]]\n",
    "\n",
    "X = np.array([2, 5, -3])\n",
    "\n",
    "solution = gaussJordanElimination(A, X)\n",
    "\n",
    "print(\"Equations :\\n\")\n",
    "print(\"4𝑥1 + 𝑥2 - 2𝑥3 = 2\")\n",
    "print(\"-2𝑥1 - 8𝑥2 -  7𝑥3 = 5\")\n",
    "print(\"𝑥1 + 𝑥2 + 8𝑥3 = -3\")\n",
    "\n",
    "print(\"\\nEquations to Matrix\\n\")\n",
    "print(\"[4\\t-1\\t-2]\\t[x1]\\t    [2]\")\n",
    "print(\"[-2\\t-8\\t-7]\\t[x2]\\t=   [14]\")\n",
    "print(\"[1\\t 1\\t 8]\\t[x3]\\t    [54]\")\n",
    "\n",
    "print(\"\\nAugmented Matrix : \\n\")\n",
    "a = [[4, 1, -2, 2],\n",
    "     [-2, -8, -7, 5],\n",
    "     [1, 1, 8,-3]]\n",
    "print(a)\n",
    "\n",
    "print(\"\\nResult:\")\n",
    "print(gaussJordanElimination(A,X),\"\\n\")\n",
    "for i, x in enumerate(solution):\n",
    "    rounded_x = round(x, 3)\n",
    "    print(f\"x{i+1} = {rounded_x}\")"
   ]
  },
  {
   "cell_type": "code",
   "execution_count": 3,
   "metadata": {},
   "outputs": [
    {
     "name": "stdout",
     "output_type": "stream",
     "text": [
      "[ 0.469 -0.309 -0.451]\n"
     ]
    }
   ],
   "source": [
    "#Numpy\n",
    "\n",
    "import numpy as np\n",
    "\n",
    "a = [[3,1,-2],[-2,-9,-7],[1,1,7]]\n",
    "\n",
    "X = np.array([2, 5, -3])\n",
    "\n",
    "result = np.linalg.solve(A,X)\n",
    "\n",
    "np.set_printoptions(precision=3)\n",
    "\n",
    "print(result)"
   ]
  },
  {
   "cell_type": "code",
   "execution_count": 2,
   "metadata": {},
   "outputs": [
    {
     "name": "stdout",
     "output_type": "stream",
     "text": [
      "Solution:\n",
      "[ 0.46857143 -0.30857143 -0.45142857]\n"
     ]
    }
   ],
   "source": [
    "#Scipy\n",
    "\n",
    "import numpy as np\n",
    "from scipy.linalg import solve\n",
    "\n",
    "# Coefficients matrix\n",
    "A = [[3,1,-2],[-2,-9,-7],[1,1,7]]\n",
    "\n",
    "# Constants\n",
    "b = np.array([2, 5, -3])\n",
    "\n",
    "# Solve the system of linear equations\n",
    "solution = solve(A, b)\n",
    "\n",
    "print(\"Solution:\")\n",
    "print(solution)\n"
   ]
  },
  {
   "cell_type": "code",
   "execution_count": 1,
   "metadata": {},
   "outputs": [
    {
     "name": "stdout",
     "output_type": "stream",
     "text": [
      "NOT diagonally doominant\n",
      "Iteration results\n",
      "k,       x1,     x2,     x3\n",
      "1, 0.6667, -0.7037, -0.4233\n",
      "2, 0.6190, -0.3639, -0.4650\n",
      "3, 0.4780, -0.3001, -0.4540\n",
      "4, 0.4640, -0.3056, -0.4512\n",
      "5, 0.4677, -0.3086, -0.4513\n",
      "Converged\n"
     ]
    }
   ],
   "source": [
    "#Gauss Seidel\n",
    "\n",
    "import numpy as np\n",
    "\n",
    "a = [[3,1,-2],[-2,-9,-7],[1,1,7]]\n",
    "\n",
    "\n",
    "#Diagonal dominant atau tidak\n",
    "diag = np.diag(np.abs(a))\n",
    "off_diag = np.sum(np.abs(a), axis=1) - diag\n",
    "if np.all(diag > off_diag):\n",
    "    print(\"Matrix is diagonally dominat\")\n",
    "else :\n",
    "    print(\"NOT diagonally doominant\")\n",
    "\n",
    "x1 = 0\n",
    "x2 = 0\n",
    "x3 = 0\n",
    "epsilon = 0.01\n",
    "converged = False\n",
    "\n",
    "x_old = np.array([x1,x2,x3])\n",
    "\n",
    "print(\"Iteration results\")\n",
    "print(\"k,       x1,     x2,     x3\")\n",
    "for k in range(1,50):\n",
    "    x1 = (2-1*x2+2*x3)/3\n",
    "    x2 = (5+2*x1+7*x3)/(-9)\n",
    "    x3 = (-3-1*x1-1*x2)/7\n",
    "    x = np.array([x1,x2,x3])\n",
    "    dx = np.sqrt(np.dot(x-x_old, x-x_old))\n",
    "    \n",
    "    print(\"%d, %.4f, %.4f, %.4f\"%(k,x1,x2,x3))\n",
    "    if dx < epsilon:\n",
    "        converged = True\n",
    "        print(\"Converged\")\n",
    "        break\n",
    "    \n",
    "    x_old = x\n",
    "    \n",
    "if not converged:\n",
    "    print (\"Not converge, increase the # of iterations\")"
   ]
  },
  {
   "cell_type": "code",
   "execution_count": 8,
   "metadata": {},
   "outputs": [
    {
     "name": "stdout",
     "output_type": "stream",
     "text": [
      "P :\n",
      " [[1. 0. 0.]\n",
      " [0. 1. 0.]\n",
      " [0. 0. 1.]]\n",
      "L :\n",
      " [[ 1.    0.    0.  ]\n",
      " [-0.5   1.    0.  ]\n",
      " [ 0.25 -0.1   1.  ]]\n",
      "U :\n",
      " [[ 4.   1.  -2. ]\n",
      " [ 0.  -7.5 -8. ]\n",
      " [ 0.   0.   7.7]]\n",
      "LU :\n",
      " [[ 4.  1. -2.]\n",
      " [-2. -8. -7.]\n",
      " [ 1.  1.  8.]]\n"
     ]
    }
   ],
   "source": [
    "#Lower & Upper\n",
    "\n",
    "import numpy as np\n",
    "from scipy.linalg import lu\n",
    "\n",
    "A = np.array([[4, 1, -2],\n",
    "              [-2, -8, -7],\n",
    "              [1, 1, 8]]) #Hitung absnya buat lbh safety\n",
    "\n",
    "P, L, U = lu(A)\n",
    "print(\"P :\\n\", P)\n",
    "print(\"L :\\n\", L)\n",
    "print(\"U :\\n\", U)\n",
    "print(\"LU :\\n\", np.dot(L,U))"
   ]
  },
  {
   "cell_type": "code",
   "execution_count": 11,
   "metadata": {},
   "outputs": [
    {
     "name": "stdout",
     "output_type": "stream",
     "text": [
      "(1, 5)\n",
      "(4, 1)\n"
     ]
    }
   ],
   "source": [
    "#Vector\n",
    "\n",
    "import numpy as np\n",
    "\n",
    "vector_row = np.array([[1,-5,3,2,4]])\n",
    "vector_col = np.array([[1],\n",
    "                       [2],\n",
    "                       [3],\n",
    "                       [4],\n",
    "                       ])\n",
    "print(vector_row.shape)\n",
    "print(vector_col.shape)"
   ]
  },
  {
   "cell_type": "code",
   "execution_count": 12,
   "metadata": {},
   "outputs": [
    {
     "name": "stdout",
     "output_type": "stream",
     "text": [
      "[[ 1]\n",
      " [-5]\n",
      " [ 3]\n",
      " [ 2]\n",
      " [ 4]]\n",
      "L_1 is : 15.0\n",
      "L_2 is : 7.4\n",
      "L_inf is : 5.0\n"
     ]
    }
   ],
   "source": [
    "#Vector Norm\n",
    "\n",
    "import numpy as np\n",
    "from numpy.linalg import norm\n",
    "\n",
    "vector_row = np.array([[1,-5,3,2,4]])\n",
    "vector_col = np.array([[1],\n",
    "                       [2],\n",
    "                       [3],\n",
    "                       [4],\n",
    "                       ])\n",
    "\n",
    "new_vector = vector_row.T\n",
    "print(new_vector)\n",
    "norm_1 = norm(new_vector,1)\n",
    "norm_2 = norm(new_vector,2)\n",
    "norm_inf = norm(new_vector, np.inf)\n",
    "print(\"L_1 is : %.1f\"%norm_1)\n",
    "print(\"L_2 is : %.1f\"%norm_2)\n",
    "print(\"L_inf is : %.1f\"%norm_inf)"
   ]
  },
  {
   "cell_type": "code",
   "execution_count": 13,
   "metadata": {},
   "outputs": [
    {
     "name": "stdout",
     "output_type": "stream",
     "text": [
      "0.979924710443726\n"
     ]
    }
   ],
   "source": [
    "#Dot Product\n",
    "\n",
    "from numpy import arccos, dot\n",
    "\n",
    "v = np.array([10,9,3])\n",
    "w = np.array([2,5,12])\n",
    "theta = arccos(dot(v,w.T)/(norm(v)*norm(w)))\n",
    "print(theta)"
   ]
  },
  {
   "cell_type": "code",
   "execution_count": 14,
   "metadata": {},
   "outputs": [
    {
     "name": "stdout",
     "output_type": "stream",
     "text": [
      "[[ 0  0 -6]]\n"
     ]
    }
   ],
   "source": [
    "#Cross Product\n",
    "\n",
    "import numpy as np\n",
    "\n",
    "v = np.array([[0,2,0]])\n",
    "w = np.array([[3,0,0]])\n",
    "print(np.cross(v,w))"
   ]
  },
  {
   "cell_type": "code",
   "execution_count": 16,
   "metadata": {},
   "outputs": [
    {
     "name": "stdout",
     "output_type": "stream",
     "text": [
      "M :\n",
      " [[0 2 1 3]\n",
      " [3 2 8 1]\n",
      " [1 0 0 3]\n",
      " [0 3 2 1]]\n",
      "Determinant : -38.0\n",
      "I :\n",
      " [[1. 0. 0. 0.]\n",
      " [0. 1. 0. 0.]\n",
      " [0. 0. 1. 0.]\n",
      " [0. 0. 0. 1.]]\n",
      "M*I :\n",
      " [[0. 2. 1. 3.]\n",
      " [3. 2. 8. 1.]\n",
      " [1. 0. 0. 3.]\n",
      " [0. 3. 2. 1.]]\n",
      "Inv :\n",
      " [[-1.579 -0.079  1.237  1.105]\n",
      " [-0.632 -0.132  0.395  0.842]\n",
      " [ 0.684  0.184 -0.553 -0.579]\n",
      " [ 0.526  0.026 -0.079 -0.368]]\n"
     ]
    }
   ],
   "source": [
    "#Determinan & Inverse\n",
    "\n",
    "import numpy as np\n",
    "from numpy.linalg import det\n",
    "from numpy.linalg import inv\n",
    "\n",
    "M = np.array([[0,2,1,3],\n",
    "              [3,2,8,1],\n",
    "              [1,0,0,3],\n",
    "              [0,3,2,1]])\n",
    "print(\"M :\\n\", M)\n",
    "print(\"Determinant : %.1f\"%det(M))\n",
    "I = np.eye(4)\n",
    "print(\"I :\\n\", I)\n",
    "print(\"M*I :\\n\", np.dot(M,I))\n",
    "\n",
    "print(\"Inv :\\n\", inv(M))"
   ]
  },
  {
   "cell_type": "code",
   "execution_count": null,
   "metadata": {},
   "outputs": [],
   "source": [
    "#Condition number & Rank & Augmented Matrix\n",
    "\n",
    "import numpy as np\n",
    "from scipy.linalg import cond, matrix_rank\n",
    "\n",
    "A = np.array([[1,1,0],\n",
    "              [0,1,0],\n",
    "              [1,0,1]])\n",
    "print(\"Condition number :\\n\", cond(A))\n",
    "print(\"Rank : \", matrix_rank(A))\n",
    "y = np.array([[1], [2],[3]])\n",
    "A_y = np.concatenate((A,y),axis = 1)\n",
    "print(\"Augmented matrix :\\n\", A_y)"
   ]
  }
 ],
 "metadata": {
  "kernelspec": {
   "display_name": "Python 3",
   "language": "python",
   "name": "python3"
  },
  "language_info": {
   "codemirror_mode": {
    "name": "ipython",
    "version": 3
   },
   "file_extension": ".py",
   "mimetype": "text/x-python",
   "name": "python",
   "nbconvert_exporter": "python",
   "pygments_lexer": "ipython3",
   "version": "3.12.1"
  }
 },
 "nbformat": 4,
 "nbformat_minor": 2
}
